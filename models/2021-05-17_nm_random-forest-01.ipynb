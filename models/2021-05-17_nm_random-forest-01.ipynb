{
 "cells": [
  {
   "cell_type": "code",
   "execution_count": 1,
   "id": "1836be0d-a3cf-49c4-b70f-6aee1b339e45",
   "metadata": {},
   "outputs": [],
   "source": [
    "import pandas as pd\n",
    "import numpy as np\n",
    "import matplotlib.pyplot as plt\n",
    "from sklearn.metrics import accuracy_score, precision_score, recall_score\n",
    "from sklearn.model_selection import KFold\n",
    "from sklearn.preprocessing import LabelEncoder, OneHotEncoder\n",
    "from sklearn.ensemble import RandomForestClassifier"
   ]
  },
  {
   "cell_type": "markdown",
   "id": "c898caf2-3ee2-4b91-8e47-cdabcbe64f65",
   "metadata": {},
   "source": [
    "## How well does a Random Forest predict a claim being approved (`pharmacy_claim_approved`)?"
   ]
  },
  {
   "cell_type": "code",
   "execution_count": 2,
   "id": "e504f9c0-4e0d-483f-8142-604b802ea247",
   "metadata": {},
   "outputs": [],
   "source": [
    "claims_df = pd.read_csv('../data/processed/dim_claims_train.csv').fillna(0)\n",
    "claims_df.loc[:, 'reject_code'] = claims_df['reject_code'].astype(int)\n",
    "\n",
    "pa_df = pd.read_csv('../data/processed/dim_pa_train.csv')\n",
    "bridge_df = pd.read_csv('../data/processed/bridge_train.csv')\n",
    "\n",
    "combined_df = bridge_df.merge(claims_df, on='dim_claim_id').merge(pa_df, on='dim_pa_id').drop(columns=['dim_claim_id', 'dim_pa_id', 'dim_date_id', 'pharmacy_claim_approved'])"
   ]
  },
  {
   "cell_type": "code",
   "execution_count": 3,
   "id": "24d55346-e8dc-4f56-89e6-68d85df60921",
   "metadata": {},
   "outputs": [],
   "source": [
    "claims_X = claims_df[['bin', 'drug']].values\n",
    "claims_y = claims_df['pharmacy_claim_approved'].values\n",
    "\n",
    "bin_le = LabelEncoder()\n",
    "claims_X[:, 0] = bin_le.fit_transform(claims_X[:, 0])\n",
    "\n",
    "drug_le = LabelEncoder()\n",
    "claims_X[:, 1] = drug_le.fit_transform(claims_X[:, 1])\n",
    "\n",
    "cv = KFold(n_splits=5, random_state=42, shuffle=True)\n",
    "cv.get_n_splits(claims_X)\n",
    "\n",
    "accuracy = []\n",
    "precision = []\n",
    "recall = []\n",
    "\n",
    "for train_index, test_index in cv.split(claims_X):\n",
    "    X_train, X_test = claims_X[train_index], claims_X[test_index]\n",
    "    y_train, y_test = claims_y[train_index], claims_y[test_index]\n",
    "    \n",
    "    model = RandomForestClassifier(random_state=42)\n",
    "    \n",
    "    model.fit(X_train, y_train)\n",
    "    \n",
    "    accuracy.append(accuracy_score(y_test, model.predict(X_test)))\n",
    "    precision.append(precision_score(y_test, model.predict(X_test)))\n",
    "    recall.append(recall_score(y_test, model.predict(X_test)))\n",
    "\n",
    "    \n",
    "accuracy = np.array(accuracy)\n",
    "recall = np.array(recall)\n",
    "precision = np.array(precision)"
   ]
  },
  {
   "cell_type": "code",
   "execution_count": 4,
   "id": "eeadadd0-23e3-47cf-be89-4fcf2fa1a8cd",
   "metadata": {},
   "outputs": [
    {
     "name": "stdout",
     "output_type": "stream",
     "text": [
      "Logistic Regression accuracy = 0.94\n",
      "Logistic Regression precision = 0.9\n",
      "Logistic Regression recall = 1.0\n"
     ]
    }
   ],
   "source": [
    "print(f'Logistic Regression accuracy = {round(np.mean(accuracy), 2)}')\n",
    "print(f'Logistic Regression precision = {round(np.mean(precision), 2)}')\n",
    "print(f'Logistic Regression recall = {round(np.mean(recall), 2)}')"
   ]
  },
  {
   "cell_type": "markdown",
   "id": "ca8265e3-9d4e-486f-baf5-ab91104b96f2",
   "metadata": {},
   "source": [
    "### Does 1-hot encoding improve the prediction?\n",
    "- 1-hot encoding improved the precision by 0.4, but reduced the accuracy by 0.3 and recall by 0.12."
   ]
  },
  {
   "cell_type": "code",
   "execution_count": 6,
   "id": "8831142b-def4-43fc-bb7d-1bd7742d69a4",
   "metadata": {},
   "outputs": [],
   "source": [
    "claims_X = claims_df[['bin', 'drug']].values\n",
    "claims_y = claims_df['pharmacy_claim_approved'].values\n",
    "\n",
    "ohe = OneHotEncoder(sparse=False, drop='first')\n",
    "claims_X = ohe.fit_transform(claims_X.tolist())\n",
    "\n",
    "cv = KFold(n_splits=5, random_state=42, shuffle=True)\n",
    "cv.get_n_splits(claims_X)\n",
    "\n",
    "accuracy = []\n",
    "precision = []\n",
    "recall = []\n",
    "\n",
    "for train_index, test_index in cv.split(claims_X):\n",
    "    X_train, X_test = claims_X[train_index], claims_X[test_index]\n",
    "    y_train, y_test = claims_y[train_index], claims_y[test_index]\n",
    "    \n",
    "    model = RandomForestClassifier(random_state=42)\n",
    "    \n",
    "    model.fit(X_train, y_train)\n",
    "    \n",
    "    accuracy.append(accuracy_score(y_test, model.predict(X_test)))\n",
    "    precision.append(precision_score(y_test, model.predict(X_test)))\n",
    "    recall.append(recall_score(y_test, model.predict(X_test)))\n",
    "\n",
    "    \n",
    "accuracy = np.array(accuracy)\n",
    "recall = np.array(recall)\n",
    "precision = np.array(precision)"
   ]
  },
  {
   "cell_type": "code",
   "execution_count": 7,
   "id": "a043611d-ee5f-4736-b522-c777f0dda55b",
   "metadata": {},
   "outputs": [
    {
     "name": "stdout",
     "output_type": "stream",
     "text": [
      "Logistic Regression accuracy = 0.94\n",
      "Logistic Regression precision = 0.9\n",
      "Logistic Regression recall = 1.0\n"
     ]
    }
   ],
   "source": [
    "print(f'Logistic Regression accuracy = {round(np.mean(accuracy), 2)}')\n",
    "print(f'Logistic Regression precision = {round(np.mean(precision), 2)}')\n",
    "print(f'Logistic Regression recall = {round(np.mean(recall), 2)}')"
   ]
  },
  {
   "cell_type": "markdown",
   "id": "8ae4a722-9be5-45c7-b7bb-6995c0aa2c8d",
   "metadata": {},
   "source": [
    "## How well does a Decision Tree predict a PA being approved (`pa_approved`)?"
   ]
  },
  {
   "cell_type": "code",
   "execution_count": 8,
   "id": "7970211c-58d0-4149-8272-71eb68eb9d3d",
   "metadata": {},
   "outputs": [],
   "source": [
    "claims_X = combined_df.drop(columns='pa_approved').values\n",
    "claims_y = combined_df['pa_approved'].values\n",
    "\n",
    "bin_le = LabelEncoder()\n",
    "claims_X[:, 0] = bin_le.fit_transform(claims_X[:, 0])\n",
    "\n",
    "drug_le = LabelEncoder()\n",
    "claims_X[:, 1] = drug_le.fit_transform(claims_X[:, 1])\n",
    "\n",
    "reject_code_le = LabelEncoder()\n",
    "claims_X[:, 2] = reject_code_le.fit_transform(claims_X[:, 2])\n",
    "\n",
    "cv = KFold(n_splits=5, random_state=42, shuffle=True)\n",
    "cv.get_n_splits(claims_X)\n",
    "\n",
    "accuracy = []\n",
    "precision = []\n",
    "recall = []\n",
    "\n",
    "for train_index, test_index in cv.split(claims_X):\n",
    "    X_train, X_test = claims_X[train_index], claims_X[test_index]\n",
    "    y_train, y_test = claims_y[train_index], claims_y[test_index]\n",
    "    \n",
    "    model = RandomForestClassifier(random_state=42)\n",
    "    \n",
    "    model.fit(X_train, y_train)\n",
    "    \n",
    "    accuracy.append(accuracy_score(y_test, model.predict(X_test)))\n",
    "    precision.append(precision_score(y_test, model.predict(X_test)))\n",
    "    recall.append(recall_score(y_test, model.predict(X_test)))\n",
    "\n",
    "    \n",
    "accuracy = np.array(accuracy)\n",
    "recall = np.array(recall)\n",
    "precision = np.array(precision)"
   ]
  },
  {
   "cell_type": "code",
   "execution_count": 9,
   "id": "60ec61bd-7efa-4d82-a7b2-1d9999d7e143",
   "metadata": {},
   "outputs": [
    {
     "name": "stdout",
     "output_type": "stream",
     "text": [
      "Logistic Regression accuracy = 0.81\n",
      "Logistic Regression precision = 0.83\n",
      "Logistic Regression recall = 0.93\n"
     ]
    }
   ],
   "source": [
    "print(f'Logistic Regression accuracy = {round(np.mean(accuracy), 2)}')\n",
    "print(f'Logistic Regression precision = {round(np.mean(precision), 2)}')\n",
    "print(f'Logistic Regression recall = {round(np.mean(recall), 2)}')"
   ]
  },
  {
   "cell_type": "markdown",
   "id": "a4a50bf8-8763-4272-b533-bd9c3e848c2f",
   "metadata": {},
   "source": [
    "### Does 1-hot encoding improve the prediction?\n",
    "- 1-hot encoding causes the Bernoulli and Categorical Naive Bayes to become equivalent."
   ]
  },
  {
   "cell_type": "code",
   "execution_count": 10,
   "id": "cf66020d-89a8-4ec3-bd1e-f4e3ab44710b",
   "metadata": {},
   "outputs": [],
   "source": [
    "claims_X = combined_df.drop(columns='pa_approved').values\n",
    "claims_y = combined_df['pa_approved'].values\n",
    "\n",
    "ohe = OneHotEncoder(sparse=False, drop='first')\n",
    "claims_X = ohe.fit_transform(claims_X.tolist())\n",
    "\n",
    "cv = KFold(n_splits=5, random_state=42, shuffle=True)\n",
    "cv.get_n_splits(claims_X)\n",
    "\n",
    "accuracy = []\n",
    "precision = []\n",
    "recall = []\n",
    "\n",
    "for train_index, test_index in cv.split(claims_X):\n",
    "    X_train, X_test = claims_X[train_index], claims_X[test_index]\n",
    "    y_train, y_test = claims_y[train_index], claims_y[test_index]\n",
    "    \n",
    "    model = RandomForestClassifier(random_state=42)\n",
    "    \n",
    "    model.fit(X_train, y_train)\n",
    "    \n",
    "    accuracy.append(accuracy_score(y_test, model.predict(X_test)))\n",
    "    precision.append(precision_score(y_test, model.predict(X_test)))\n",
    "    recall.append(recall_score(y_test, model.predict(X_test)))\n",
    "\n",
    "accuracy = np.array(accuracy)\n",
    "recall = np.array(recall)\n",
    "precision = np.array(precision)"
   ]
  },
  {
   "cell_type": "code",
   "execution_count": 11,
   "id": "ed7c0fdc-7a5c-47d4-bbfd-f31ea7e79c33",
   "metadata": {},
   "outputs": [
    {
     "name": "stdout",
     "output_type": "stream",
     "text": [
      "Logistic Regression accuracy = 0.81\n",
      "Logistic Regression precision = 0.83\n",
      "Logistic Regression recall = 0.93\n"
     ]
    }
   ],
   "source": [
    "print(f'Logistic Regression accuracy = {round(np.mean(accuracy), 2)}')\n",
    "print(f'Logistic Regression precision = {round(np.mean(precision), 2)}')\n",
    "print(f'Logistic Regression recall = {round(np.mean(recall), 2)}')"
   ]
  }
 ],
 "metadata": {
  "kernelspec": {
   "display_name": "Python 3",
   "language": "python",
   "name": "python3"
  },
  "language_info": {
   "codemirror_mode": {
    "name": "ipython",
    "version": 3
   },
   "file_extension": ".py",
   "mimetype": "text/x-python",
   "name": "python",
   "nbconvert_exporter": "python",
   "pygments_lexer": "ipython3",
   "version": "3.9.4"
  }
 },
 "nbformat": 4,
 "nbformat_minor": 5
}
