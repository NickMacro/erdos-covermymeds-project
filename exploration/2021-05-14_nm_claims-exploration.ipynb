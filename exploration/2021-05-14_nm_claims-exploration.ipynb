{
 "cells": [
  {
   "cell_type": "code",
   "execution_count": 1,
   "id": "cc7d06ef-fda9-4096-8014-bf46d54e7da9",
   "metadata": {},
   "outputs": [],
   "source": [
    "import pandas as pd\n",
    "import numpy as np\n",
    "import matplotlib.pyplot as plt"
   ]
  },
  {
   "cell_type": "code",
   "execution_count": 2,
   "id": "2d69a112-a7ae-4b36-8d30-a84e352b64ea",
   "metadata": {},
   "outputs": [],
   "source": [
    "# replace NaN reject_code with 0\n",
    "claims_df = pd.read_csv('../data/processed/dim_claims_train.csv').fillna(0)\n",
    "# type cast reject_code as int for nicer printing\n",
    "claims_df.loc[:, 'reject_code'] = claims_df['reject_code'].astype(int)\n",
    "\n",
    "date_df = pd.read_csv('../data/processed/dim_date_train.csv')\n",
    "pa_df = pd.read_csv('../data/processed/dim_pa_train.csv')\n",
    "bridge_df = pd.read_csv('../data/processed/bridge_train.csv')"
   ]
  },
  {
   "cell_type": "markdown",
   "id": "bbdfc2f5-e5b9-4fcb-a0d0-fd1f4de7e8d9",
   "metadata": {},
   "source": [
    "## What is the average rate of approved claim?"
   ]
  },
  {
   "cell_type": "code",
   "execution_count": 3,
   "id": "90cc00a0-01a9-4e3a-b23c-efdb20b18979",
   "metadata": {},
   "outputs": [
    {
     "name": "stdout",
     "output_type": "stream",
     "text": [
      "58.4% of claims (1068460 records) are approved.\n"
     ]
    }
   ],
   "source": [
    "print(f\"{round(100 * claims_df['pharmacy_claim_approved'].mean(), 1)}% of claims ({claims_df['pharmacy_claim_approved'].count()} records) are approved.\")"
   ]
  },
  {
   "cell_type": "markdown",
   "id": "3878e028-9aa2-4898-a08c-2d0df29acf42",
   "metadata": {},
   "source": [
    "## How does the payer (`bin`) influence the average rate of claim approval?\n",
    "- Payer `999001` approved 90% of claims and has the largest number of claims (512k)."
   ]
  },
  {
   "cell_type": "code",
   "execution_count": 4,
   "id": "67199b57-55ea-45d7-8661-9c9639624f21",
   "metadata": {},
   "outputs": [
    {
     "name": "stdout",
     "output_type": "stream",
     "text": [
      "23.1% of claims (138919 records) are approved with payer of 417380.\n",
      "21.2% of claims (245819 records) are approved with payer of 417614.\n",
      "45.8% of claims (171359 records) are approved with payer of 417740.\n",
      "90.0% of claims (512363 records) are approved with payer of 999001.\n"
     ]
    }
   ],
   "source": [
    "for payer, view in claims_df.groupby('bin'):\n",
    "    print(f\"{round(100 * view['pharmacy_claim_approved'].mean(), 1)}% of claims ({view['pharmacy_claim_approved'].count()} records) are approved with payer of {payer}.\")"
   ]
  },
  {
   "cell_type": "markdown",
   "id": "bee2453e-48c5-466f-90d5-2a0bde33d7e4",
   "metadata": {},
   "source": [
    "## How does the drug (`drug`) influence the average rate of claim approval?"
   ]
  },
  {
   "cell_type": "code",
   "execution_count": 5,
   "id": "135d611b-98db-4546-8738-d41027ed315a",
   "metadata": {},
   "outputs": [
    {
     "name": "stdout",
     "output_type": "stream",
     "text": [
      "57.5% of claims (543381 records) are approved with drug of A.\n",
      "54.9% of claims (274076 records) are approved with drug of B.\n",
      "64.0% of claims (251003 records) are approved with drug of C.\n"
     ]
    }
   ],
   "source": [
    "for drug, view in claims_df.groupby('drug'):\n",
    "    print(f\"{round(100 * view['pharmacy_claim_approved'].mean(), 1)}% of claims ({view['pharmacy_claim_approved'].count()} records) are approved with drug of {drug}.\")"
   ]
  },
  {
   "cell_type": "markdown",
   "id": "38a5f42b-6476-4dd6-846d-b089649bcc3d",
   "metadata": {},
   "source": [
    "## How does the combination of payer (`bin`) and reject code (`reject_code`) influence the average rate of claim approval?\n",
    "- Payer `999001` approves ~90% of claims, regardless of drug.\n",
    "- The remaining payers **only** approve a single drug, but that approval is at a rate of 90%."
   ]
  },
  {
   "cell_type": "code",
   "execution_count": 6,
   "id": "c9305092-0d1d-497b-b566-c29f0815ada2",
   "metadata": {},
   "outputs": [
    {
     "data": {
      "text/html": [
       "<div>\n",
       "<style scoped>\n",
       "    .dataframe tbody tr th:only-of-type {\n",
       "        vertical-align: middle;\n",
       "    }\n",
       "\n",
       "    .dataframe tbody tr th {\n",
       "        vertical-align: top;\n",
       "    }\n",
       "\n",
       "    .dataframe thead th {\n",
       "        text-align: right;\n",
       "    }\n",
       "</style>\n",
       "<table border=\"1\" class=\"dataframe\">\n",
       "  <thead>\n",
       "    <tr style=\"text-align: right;\">\n",
       "      <th></th>\n",
       "      <th></th>\n",
       "      <th>pharmacy_claim_approved_percent</th>\n",
       "      <th>pharmacy_claim_approved_count</th>\n",
       "    </tr>\n",
       "    <tr>\n",
       "      <th>bin</th>\n",
       "      <th>drug</th>\n",
       "      <th></th>\n",
       "      <th></th>\n",
       "    </tr>\n",
       "  </thead>\n",
       "  <tbody>\n",
       "    <tr>\n",
       "      <th rowspan=\"3\" valign=\"top\">417380</th>\n",
       "      <th>A</th>\n",
       "      <td>0.000000</td>\n",
       "      <td>70844</td>\n",
       "    </tr>\n",
       "    <tr>\n",
       "      <th>B</th>\n",
       "      <td>0.901659</td>\n",
       "      <td>35621</td>\n",
       "    </tr>\n",
       "    <tr>\n",
       "      <th>C</th>\n",
       "      <td>0.000000</td>\n",
       "      <td>32454</td>\n",
       "    </tr>\n",
       "    <tr>\n",
       "      <th rowspan=\"3\" valign=\"top\">417614</th>\n",
       "      <th>A</th>\n",
       "      <td>0.000000</td>\n",
       "      <td>125179</td>\n",
       "    </tr>\n",
       "    <tr>\n",
       "      <th>B</th>\n",
       "      <td>0.000000</td>\n",
       "      <td>62872</td>\n",
       "    </tr>\n",
       "    <tr>\n",
       "      <th>C</th>\n",
       "      <td>0.901831</td>\n",
       "      <td>57768</td>\n",
       "    </tr>\n",
       "    <tr>\n",
       "      <th rowspan=\"3\" valign=\"top\">417740</th>\n",
       "      <th>A</th>\n",
       "      <td>0.901003</td>\n",
       "      <td>87174</td>\n",
       "    </tr>\n",
       "    <tr>\n",
       "      <th>B</th>\n",
       "      <td>0.000000</td>\n",
       "      <td>43966</td>\n",
       "    </tr>\n",
       "    <tr>\n",
       "      <th>C</th>\n",
       "      <td>0.000000</td>\n",
       "      <td>40219</td>\n",
       "    </tr>\n",
       "    <tr>\n",
       "      <th rowspan=\"3\" valign=\"top\">999001</th>\n",
       "      <th>A</th>\n",
       "      <td>0.899767</td>\n",
       "      <td>260184</td>\n",
       "    </tr>\n",
       "    <tr>\n",
       "      <th>B</th>\n",
       "      <td>0.900157</td>\n",
       "      <td>131617</td>\n",
       "    </tr>\n",
       "    <tr>\n",
       "      <th>C</th>\n",
       "      <td>0.899438</td>\n",
       "      <td>120562</td>\n",
       "    </tr>\n",
       "  </tbody>\n",
       "</table>\n",
       "</div>"
      ],
      "text/plain": [
       "             pharmacy_claim_approved_percent  pharmacy_claim_approved_count\n",
       "bin    drug                                                                \n",
       "417380 A                            0.000000                          70844\n",
       "       B                            0.901659                          35621\n",
       "       C                            0.000000                          32454\n",
       "417614 A                            0.000000                         125179\n",
       "       B                            0.000000                          62872\n",
       "       C                            0.901831                          57768\n",
       "417740 A                            0.901003                          87174\n",
       "       B                            0.000000                          43966\n",
       "       C                            0.000000                          40219\n",
       "999001 A                            0.899767                         260184\n",
       "       B                            0.900157                         131617\n",
       "       C                            0.899438                         120562"
      ]
     },
     "metadata": {},
     "output_type": "display_data"
    }
   ],
   "source": [
    "split = pd.DataFrame(claims_df.groupby(['bin', 'drug'])['pharmacy_claim_approved'].mean())\n",
    "split.loc[:, 'pharmacy_claim_approved_count'] = claims_df.groupby(['bin', 'drug'])['pharmacy_claim_approved'].count()\n",
    "split = split.rename(columns={'pharmacy_claim_approved': 'pharmacy_claim_approved_percent'})\n",
    "display(pd.DataFrame(split).sort_index(level=[0, 1]))"
   ]
  },
  {
   "cell_type": "markdown",
   "id": "b98128af-a3c9-45c4-908b-71670144935a",
   "metadata": {},
   "source": [
    "## How does each payer (`payer`) administer reject codes (`reject_code`) for each drug (`drug`)?\n",
    "- If a payer accepts a drug with out PA, a claim may be rejected with code 76 (drug covered but limit exceeded).\n",
    "- If a payer does not accept a drug without PA, then the reject code is either 70 (drug not covered) or 75 (drug on forumlary but required PA).\n",
    "- Payer `999001` accepts all drugs and only administers reject code 76."
   ]
  },
  {
   "cell_type": "code",
   "execution_count": 7,
   "id": "efcf1c1d-51f5-4fbe-b60c-ab19ccf66e1c",
   "metadata": {},
   "outputs": [
    {
     "data": {
      "text/html": [
       "<div>\n",
       "<style scoped>\n",
       "    .dataframe tbody tr th:only-of-type {\n",
       "        vertical-align: middle;\n",
       "    }\n",
       "\n",
       "    .dataframe tbody tr th {\n",
       "        vertical-align: top;\n",
       "    }\n",
       "\n",
       "    .dataframe thead th {\n",
       "        text-align: right;\n",
       "    }\n",
       "</style>\n",
       "<table border=\"1\" class=\"dataframe\">\n",
       "  <thead>\n",
       "    <tr style=\"text-align: right;\">\n",
       "      <th></th>\n",
       "      <th></th>\n",
       "      <th></th>\n",
       "      <th>pharmacy_claim_approved_percent</th>\n",
       "    </tr>\n",
       "    <tr>\n",
       "      <th>bin</th>\n",
       "      <th>drug</th>\n",
       "      <th>reject_code</th>\n",
       "      <th></th>\n",
       "    </tr>\n",
       "  </thead>\n",
       "  <tbody>\n",
       "    <tr>\n",
       "      <th rowspan=\"4\" valign=\"top\">417380</th>\n",
       "      <th>A</th>\n",
       "      <th>75</th>\n",
       "      <td>70844</td>\n",
       "    </tr>\n",
       "    <tr>\n",
       "      <th rowspan=\"2\" valign=\"top\">B</th>\n",
       "      <th>0</th>\n",
       "      <td>32118</td>\n",
       "    </tr>\n",
       "    <tr>\n",
       "      <th>76</th>\n",
       "      <td>3503</td>\n",
       "    </tr>\n",
       "    <tr>\n",
       "      <th>C</th>\n",
       "      <th>70</th>\n",
       "      <td>32454</td>\n",
       "    </tr>\n",
       "    <tr>\n",
       "      <th rowspan=\"4\" valign=\"top\">417614</th>\n",
       "      <th>A</th>\n",
       "      <th>70</th>\n",
       "      <td>125179</td>\n",
       "    </tr>\n",
       "    <tr>\n",
       "      <th>B</th>\n",
       "      <th>75</th>\n",
       "      <td>62872</td>\n",
       "    </tr>\n",
       "    <tr>\n",
       "      <th rowspan=\"2\" valign=\"top\">C</th>\n",
       "      <th>0</th>\n",
       "      <td>52097</td>\n",
       "    </tr>\n",
       "    <tr>\n",
       "      <th>76</th>\n",
       "      <td>5671</td>\n",
       "    </tr>\n",
       "    <tr>\n",
       "      <th rowspan=\"4\" valign=\"top\">417740</th>\n",
       "      <th rowspan=\"2\" valign=\"top\">A</th>\n",
       "      <th>0</th>\n",
       "      <td>78544</td>\n",
       "    </tr>\n",
       "    <tr>\n",
       "      <th>76</th>\n",
       "      <td>8630</td>\n",
       "    </tr>\n",
       "    <tr>\n",
       "      <th>B</th>\n",
       "      <th>70</th>\n",
       "      <td>43966</td>\n",
       "    </tr>\n",
       "    <tr>\n",
       "      <th>C</th>\n",
       "      <th>75</th>\n",
       "      <td>40219</td>\n",
       "    </tr>\n",
       "    <tr>\n",
       "      <th rowspan=\"6\" valign=\"top\">999001</th>\n",
       "      <th rowspan=\"2\" valign=\"top\">A</th>\n",
       "      <th>0</th>\n",
       "      <td>234105</td>\n",
       "    </tr>\n",
       "    <tr>\n",
       "      <th>76</th>\n",
       "      <td>26079</td>\n",
       "    </tr>\n",
       "    <tr>\n",
       "      <th rowspan=\"2\" valign=\"top\">B</th>\n",
       "      <th>0</th>\n",
       "      <td>118476</td>\n",
       "    </tr>\n",
       "    <tr>\n",
       "      <th>76</th>\n",
       "      <td>13141</td>\n",
       "    </tr>\n",
       "    <tr>\n",
       "      <th rowspan=\"2\" valign=\"top\">C</th>\n",
       "      <th>0</th>\n",
       "      <td>108438</td>\n",
       "    </tr>\n",
       "    <tr>\n",
       "      <th>76</th>\n",
       "      <td>12124</td>\n",
       "    </tr>\n",
       "  </tbody>\n",
       "</table>\n",
       "</div>"
      ],
      "text/plain": [
       "                         pharmacy_claim_approved_percent\n",
       "bin    drug reject_code                                 \n",
       "417380 A    75                                     70844\n",
       "       B    0                                      32118\n",
       "            76                                      3503\n",
       "       C    70                                     32454\n",
       "417614 A    70                                    125179\n",
       "       B    75                                     62872\n",
       "       C    0                                      52097\n",
       "            76                                      5671\n",
       "417740 A    0                                      78544\n",
       "            76                                      8630\n",
       "       B    70                                     43966\n",
       "       C    75                                     40219\n",
       "999001 A    0                                     234105\n",
       "            76                                     26079\n",
       "       B    0                                     118476\n",
       "            76                                     13141\n",
       "       C    0                                     108438\n",
       "            76                                     12124"
      ]
     },
     "metadata": {},
     "output_type": "display_data"
    }
   ],
   "source": [
    "split = pd.DataFrame(claims_df.groupby(['bin', 'drug', 'reject_code'])['pharmacy_claim_approved'].count())\n",
    "#split.loc[:, 'pharmacy_claim_approved_count'] = claims_df.groupby(['bin', 'drug'])['pharmacy_claim_approved'].count()\n",
    "split = split.rename(columns={'pharmacy_claim_approved': 'pharmacy_claim_approved_percent'})\n",
    "display(pd.DataFrame(split).sort_index(level=[0, 1]))"
   ]
  }
 ],
 "metadata": {
  "kernelspec": {
   "display_name": "Python 3",
   "language": "python",
   "name": "python3"
  },
  "language_info": {
   "codemirror_mode": {
    "name": "ipython",
    "version": 3
   },
   "file_extension": ".py",
   "mimetype": "text/x-python",
   "name": "python",
   "nbconvert_exporter": "python",
   "pygments_lexer": "ipython3",
   "version": "3.9.4"
  }
 },
 "nbformat": 4,
 "nbformat_minor": 5
}
