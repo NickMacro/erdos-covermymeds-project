{
 "cells": [
  {
   "cell_type": "code",
   "execution_count": 1,
   "id": "7969834a-d6b1-4adf-ab71-f8143cd04b28",
   "metadata": {},
   "outputs": [],
   "source": [
    "import pandas as pd\n",
    "import numpy as np\n",
    "import matplotlib.pyplot as plt\n",
    "from sklearn.preprocessing import OneHotEncoder\n",
    "from sklearn.metrics import accuracy_score, precision_score, recall_score, roc_auc_score\n",
    "from sklearn.pipeline import Pipeline\n",
    "from sklearn.model_selection import KFold\n",
    "from sklearn.linear_model import LogisticRegression\n",
    "from joblib import dump"
   ]
  },
  {
   "cell_type": "markdown",
   "id": "74291138-388f-42bd-9c8f-1b64559b615f",
   "metadata": {},
   "source": [
    "# Tasks\n",
    "- Build final logistic regression models for each problem\n",
    "- Save the models using `joblib`"
   ]
  },
  {
   "cell_type": "code",
   "execution_count": 2,
   "id": "1c395766-af86-44bc-a17f-5beca0fb8374",
   "metadata": {},
   "outputs": [],
   "source": [
    "def build_pipe():\n",
    "    encoder = OneHotEncoder(sparse=False, drop='first')\n",
    "    model = LogisticRegression(random_state=42)\n",
    "    pipe = Pipeline([('encoder', encoder),\n",
    "                     ('model', model)])\n",
    "    return pipe   "
   ]
  },
  {
   "cell_type": "markdown",
   "id": "27c51874-795b-4d5d-8046-852027e6371d",
   "metadata": {},
   "source": [
    "## Claim Approval"
   ]
  },
  {
   "cell_type": "code",
   "execution_count": 3,
   "id": "74894606-4292-4921-9460-9283ade2cf92",
   "metadata": {},
   "outputs": [],
   "source": [
    "claims_df = pd.read_csv('../data/processed/dim_claims_train.csv')\n",
    "\n",
    "claims_X = claims_df[['bin', 'drug']]\n",
    "claims_y = claims_df['pharmacy_claim_approved']"
   ]
  },
  {
   "cell_type": "code",
   "execution_count": 4,
   "id": "48ed3b4f-ccb4-44c3-9792-b1fbd977f4f2",
   "metadata": {},
   "outputs": [
    {
     "data": {
      "text/plain": [
       "['./saved-models/logistic-regression-claim-approval.joblib']"
      ]
     },
     "execution_count": 4,
     "metadata": {},
     "output_type": "execute_result"
    }
   ],
   "source": [
    "claims_final_pipe = build_pipe()\n",
    "claims_final_pipe.fit(claims_X, claims_y)\n",
    "dump(claims_final_pipe, r'./saved-models/logistic-regression-claim-approval.joblib')"
   ]
  },
  {
   "cell_type": "code",
   "execution_count": 5,
   "id": "fa0c6847-3864-4f03-828e-f8001392eea8",
   "metadata": {},
   "outputs": [],
   "source": [
    "claims_test_df = pd.read_csv('../data/processed/dim_claims_test.csv')\n",
    "\n",
    "claims_X_test = claims_test_df[['bin', 'drug']]\n",
    "claims_y_test = claims_test_df['pharmacy_claim_approved']"
   ]
  },
  {
   "cell_type": "code",
   "execution_count": 6,
   "id": "c504bf7e-facf-41a6-9430-f2ea47982ca2",
   "metadata": {},
   "outputs": [
    {
     "name": "stdout",
     "output_type": "stream",
     "text": [
      "Test Accuracy = 0.76\n",
      "Test Precision = 0.84\n",
      "Test Recall = 0.74\n",
      "Test ROC AUC = 0.85\n"
     ]
    }
   ],
   "source": [
    "test_accuracy = accuracy_score(claims_y_test, claims_final_pipe.predict(claims_X_test))\n",
    "test_precision = precision_score(claims_y_test, claims_final_pipe.predict(claims_X_test))\n",
    "test_recall = recall_score(claims_y_test, claims_final_pipe.predict(claims_X_test))\n",
    "test_roc_auc = roc_auc_score(claims_y_test, claims_final_pipe.predict_proba(claims_X_test)[:, 1])\n",
    "\n",
    "print(f'Test Accuracy = {round(test_accuracy, 2)}')\n",
    "print(f'Test Precision = {round(test_precision, 2)}')\n",
    "print(f'Test Recall = {round(test_recall, 2)}')\n",
    "print(f'Test ROC AUC = {round(test_roc_auc, 2)}')"
   ]
  },
  {
   "cell_type": "markdown",
   "id": "6bc3f58a-ea07-456f-a706-3e466d105924",
   "metadata": {},
   "source": [
    "## Reject Code"
   ]
  },
  {
   "cell_type": "code",
   "execution_count": 7,
   "id": "8c2b039b-648a-4a8b-b9f2-7b6b23800f85",
   "metadata": {},
   "outputs": [],
   "source": [
    "reject_code_df = pd.read_csv('../data/processed/dim_claims_train.csv').fillna(0)\n",
    "reject_code_df.loc[:, 'reject_code'] = reject_code_df['reject_code'].astype(int)\n",
    "# only the rejected claims should be examined when determining reject code\n",
    "reject_code_df = reject_code_df.loc[reject_code_df['pharmacy_claim_approved'] == 0]\n",
    "\n",
    "reject_code_X = reject_code_df[['bin', 'drug']]\n",
    "reject_code_y = reject_code_df['reject_code']"
   ]
  },
  {
   "cell_type": "code",
   "execution_count": 8,
   "id": "1c20891c-e24b-4e04-a3bf-34f38122aec7",
   "metadata": {},
   "outputs": [
    {
     "data": {
      "text/plain": [
       "['./saved-models/logistic-regression-reject-code.joblib']"
      ]
     },
     "execution_count": 8,
     "metadata": {},
     "output_type": "execute_result"
    }
   ],
   "source": [
    "reject_code_final_pipe = build_pipe()\n",
    "reject_code_final_pipe.fit(reject_code_X, reject_code_y)\n",
    "dump(reject_code_final_pipe, r'./saved-models/logistic-regression-reject-code.joblib')"
   ]
  },
  {
   "cell_type": "code",
   "execution_count": 9,
   "id": "c0f53909-71de-433d-a357-18b71e55fa88",
   "metadata": {},
   "outputs": [],
   "source": [
    "reject_code_test_df = pd.read_csv('../data/processed/dim_claims_test.csv').fillna(0)\n",
    "reject_code_test_df.loc[:, 'reject_code'] = reject_code_test_df['reject_code'].astype(int)\n",
    "# only the rejected claims should be examined when determining reject code\n",
    "reject_code_test_df = reject_code_test_df.loc[reject_code_test_df['pharmacy_claim_approved'] == 0]\n",
    "\n",
    "reject_code_X_test = reject_code_test_df[['bin', 'drug']]\n",
    "reject_code_y_test = reject_code_test_df['reject_code']"
   ]
  },
  {
   "cell_type": "code",
   "execution_count": 10,
   "id": "78cfab26-86da-4992-89fc-e6c52a6a3380",
   "metadata": {},
   "outputs": [
    {
     "name": "stdout",
     "output_type": "stream",
     "text": [
      "Test Accuracy = 0.7\n",
      "Test Precision = 0.77\n",
      "Test Recall = 0.71\n",
      "Test ROC AUC = 0.84\n"
     ]
    }
   ],
   "source": [
    "test_accuracy = accuracy_score(reject_code_y_test, reject_code_final_pipe.predict(reject_code_X_test))\n",
    "test_precision = precision_score(reject_code_y_test, reject_code_final_pipe.predict(reject_code_X_test), average='macro')\n",
    "test_recall = recall_score(reject_code_y_test, reject_code_final_pipe.predict(reject_code_X_test), average='macro')\n",
    "test_roc_auc = roc_auc_score(reject_code_y_test, reject_code_final_pipe.predict_proba(reject_code_X_test), average='macro', multi_class='ovo')\n",
    "\n",
    "print(f'Test Accuracy = {round(test_accuracy, 2)}')\n",
    "print(f'Test Precision = {round(test_precision, 2)}')\n",
    "print(f'Test Recall = {round(test_recall, 2)}')\n",
    "print(f'Test ROC AUC = {round(test_roc_auc, 2)}')"
   ]
  },
  {
   "cell_type": "markdown",
   "id": "fb0b7ac8-cad8-46a6-b0c3-3c50c981c1e4",
   "metadata": {},
   "source": [
    "## PA Approval"
   ]
  },
  {
   "cell_type": "code",
   "execution_count": 11,
   "id": "88ac613b-e6a8-4da5-acf1-96880b70b888",
   "metadata": {},
   "outputs": [],
   "source": [
    "claims_df = pd.read_csv('../data/processed/dim_claims_train.csv').fillna(0)\n",
    "claims_df.loc[:, 'reject_code'] = claims_df['reject_code'].astype(int)\n",
    "\n",
    "pa_df = pd.read_csv('../data/processed/dim_pa_train.csv')\n",
    "bridge_df = pd.read_csv('../data/processed/bridge_train.csv')\n",
    "\n",
    "combined_df = bridge_df.merge(claims_df, on='dim_claim_id').merge(pa_df, on='dim_pa_id')\n",
    "\n",
    "pa_X = combined_df[['bin', 'drug', 'correct_diagnosis', 'tried_and_failed', 'contraindication']]\n",
    "pa_y = combined_df['pa_approved']"
   ]
  },
  {
   "cell_type": "code",
   "execution_count": 12,
   "id": "e773516b-fcf6-4796-9059-7c3bb967860c",
   "metadata": {},
   "outputs": [
    {
     "data": {
      "text/plain": [
       "['./saved-models/logistic-regression-pa-approval.joblib']"
      ]
     },
     "execution_count": 12,
     "metadata": {},
     "output_type": "execute_result"
    }
   ],
   "source": [
    "pa_final_pipe = build_pipe()\n",
    "pa_final_pipe.fit(pa_X, pa_y)\n",
    "dump(pa_final_pipe, r'./saved-models/logistic-regression-pa-approval.joblib')"
   ]
  },
  {
   "cell_type": "code",
   "execution_count": 13,
   "id": "d497b7a4-a724-45e4-bb20-3fa1b41e8630",
   "metadata": {},
   "outputs": [],
   "source": [
    "claims_test_df = pd.read_csv('../data/processed/dim_claims_test.csv').fillna(0)\n",
    "claims_test_df.loc[:, 'reject_code'] = claims_df['reject_code'].astype(int)\n",
    "\n",
    "pa_test_df = pd.read_csv('../data/processed/dim_pa_test.csv')\n",
    "bridge_test_df = pd.read_csv('../data/processed/bridge_test.csv')\n",
    "\n",
    "combined_test_df = bridge_test_df.merge(claims_test_df, on='dim_claim_id').merge(pa_test_df, on='dim_pa_id')\n",
    "\n",
    "pa_X_test = combined_test_df[['bin', 'drug', 'correct_diagnosis', 'tried_and_failed', 'contraindication']]\n",
    "pa_y_test = combined_test_df['pa_approved']"
   ]
  },
  {
   "cell_type": "code",
   "execution_count": 14,
   "id": "05eebf67-0b8c-4821-a6e0-56cc829ec76d",
   "metadata": {},
   "outputs": [
    {
     "name": "stdout",
     "output_type": "stream",
     "text": [
      "Test Accuracy = 0.75\n",
      "Test Precision = 0.76\n",
      "Test Recall = 0.95\n",
      "Test ROC AUC = 0.72\n"
     ]
    }
   ],
   "source": [
    "test_accuracy = accuracy_score(pa_y_test, pa_final_pipe.predict(pa_X_test))\n",
    "test_precision = precision_score(pa_y_test, pa_final_pipe.predict(pa_X_test))\n",
    "test_recall = recall_score(pa_y_test, pa_final_pipe.predict(pa_X_test))\n",
    "test_roc_auc = roc_auc_score(pa_y_test, pa_final_pipe.predict_proba(pa_X_test)[:, 1])\n",
    "\n",
    "print(f'Test Accuracy = {round(test_accuracy, 2)}')\n",
    "print(f'Test Precision = {round(test_precision, 2)}')\n",
    "print(f'Test Recall = {round(test_recall, 2)}')\n",
    "print(f'Test ROC AUC = {round(test_roc_auc, 2)}')"
   ]
  }
 ],
 "metadata": {
  "kernelspec": {
   "display_name": "Python 3",
   "language": "python",
   "name": "python3"
  },
  "language_info": {
   "codemirror_mode": {
    "name": "ipython",
    "version": 3
   },
   "file_extension": ".py",
   "mimetype": "text/x-python",
   "name": "python",
   "nbconvert_exporter": "python",
   "pygments_lexer": "ipython3",
   "version": "3.9.4"
  }
 },
 "nbformat": 4,
 "nbformat_minor": 5
}
