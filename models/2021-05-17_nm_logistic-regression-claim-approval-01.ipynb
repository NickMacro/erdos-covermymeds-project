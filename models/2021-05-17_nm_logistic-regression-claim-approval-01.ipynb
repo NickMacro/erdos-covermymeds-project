{
 "cells": [
  {
   "cell_type": "code",
   "execution_count": 1,
   "id": "41898128-813a-462d-9109-ea466733a157",
   "metadata": {},
   "outputs": [],
   "source": [
    "import pandas as pd\n",
    "import numpy as np\n",
    "from sklearn.linear_model import LogisticRegression\n",
    "from sklearn.metrics import accuracy_score, precision_score, recall_score\n",
    "from sklearn.model_selection import KFold\n",
    "from sklearn.preprocessing import LabelEncoder, OneHotEncoder"
   ]
  },
  {
   "cell_type": "code",
   "execution_count": 2,
   "id": "99790670-8316-4f40-978e-bd2a4e3cbdbd",
   "metadata": {},
   "outputs": [],
   "source": [
    "claims_df = pd.read_csv('../data/processed/dim_claims_train.csv').fillna(0)\n",
    "claims_df.loc[:, 'reject_code'] = claims_df['reject_code'].astype(int)\n",
    "\n",
    "pa_df = pd.read_csv('../data/processed/dim_pa_train.csv')\n",
    "bridge_df = pd.read_csv('../data/processed/bridge_train.csv')\n",
    "\n",
    "combined_df = bridge_df.merge(claims_df, on='dim_claim_id').merge(pa_df, on='dim_pa_id').drop(columns=['dim_claim_id', 'dim_pa_id', 'dim_date_id', 'pharmacy_claim_approved'])"
   ]
  },
  {
   "cell_type": "markdown",
   "id": "dbef5eee-941b-4e99-86a3-13928eff2617",
   "metadata": {},
   "source": [
    "## How well does Logistic Regression predict a claim being approved (`pharmacy_claim_approved`)?"
   ]
  },
  {
   "cell_type": "code",
   "execution_count": 3,
   "id": "dfeb9ec1-5717-404a-82a8-688c7035faea",
   "metadata": {},
   "outputs": [],
   "source": [
    "claims_X = claims_df[['bin', 'drug']].values\n",
    "claims_y = claims_df['pharmacy_claim_approved'].values\n",
    "\n",
    "bin_le = LabelEncoder()\n",
    "claims_X[:, 0] = bin_le.fit_transform(claims_X[:, 0])\n",
    "\n",
    "drug_le = LabelEncoder()\n",
    "claims_X[:, 1] = drug_le.fit_transform(claims_X[:, 1])\n",
    "\n",
    "cv = KFold(n_splits=5, random_state=42, shuffle=True)\n",
    "cv.get_n_splits(claims_X)\n",
    "\n",
    "accuracy = []\n",
    "precision = []\n",
    "recall = []\n",
    "\n",
    "for train_index, test_index in cv.split(claims_X):\n",
    "    X_train, X_test = claims_X[train_index], claims_X[test_index]\n",
    "    y_train, y_test = claims_y[train_index], claims_y[test_index]\n",
    "    \n",
    "    model = LogisticRegression(random_state=42)\n",
    "    \n",
    "    model.fit(X_train, y_train)\n",
    "    \n",
    "    accuracy.append(accuracy_score(y_test, model.predict(X_test)))\n",
    "    precision.append(precision_score(y_test, model.predict(X_test)))\n",
    "    recall.append(recall_score(y_test, model.predict(X_test)))\n",
    "\n",
    "    \n",
    "accuracy = np.array(accuracy)\n",
    "recall = np.array(recall)\n",
    "precision = np.array(precision)"
   ]
  },
  {
   "cell_type": "code",
   "execution_count": 4,
   "id": "4eda40a3-c6e8-47e1-87f0-2e7caa95b174",
   "metadata": {},
   "outputs": [
    {
     "name": "stdout",
     "output_type": "stream",
     "text": [
      "Logistic Regression accuracy = 0.79\n",
      "Logistic Regression precision = 0.79\n",
      "Logistic Regression recall = 0.86\n"
     ]
    }
   ],
   "source": [
    "print(f'Logistic Regression accuracy = {round(np.mean(accuracy), 2)}')\n",
    "print(f'Logistic Regression precision = {round(np.mean(precision), 2)}')\n",
    "print(f'Logistic Regression recall = {round(np.mean(recall), 2)}')"
   ]
  },
  {
   "cell_type": "markdown",
   "id": "c8748ff8-71b6-415d-9de3-2a80334578d6",
   "metadata": {},
   "source": [
    "### Does one-hot encoding improve the prediction?\n",
    "- 1-hot encoding improved the precision by 0.04, but reduced the accuracy by 0.03 and recall by 0.12."
   ]
  },
  {
   "cell_type": "code",
   "execution_count": 5,
   "id": "492c98b4-85f3-4c4d-8e59-2de724c3809c",
   "metadata": {},
   "outputs": [],
   "source": [
    "claims_X = claims_df[['bin', 'drug']].values\n",
    "claims_y = claims_df['pharmacy_claim_approved'].values\n",
    "\n",
    "ohe = OneHotEncoder(sparse=False, drop='first')\n",
    "claims_X = ohe.fit_transform(claims_X.tolist())\n",
    "\n",
    "cv = KFold(n_splits=5, random_state=42, shuffle=True)\n",
    "cv.get_n_splits(claims_X)\n",
    "\n",
    "accuracy = []\n",
    "precision = []\n",
    "recall = []\n",
    "\n",
    "for train_index, test_index in cv.split(claims_X):\n",
    "    X_train, X_test = claims_X[train_index], claims_X[test_index]\n",
    "    y_train, y_test = claims_y[train_index], claims_y[test_index]\n",
    "    \n",
    "    model = LogisticRegression(random_state=42)\n",
    "    \n",
    "    model.fit(X_train, y_train)\n",
    "    \n",
    "    accuracy.append(accuracy_score(y_test, model.predict(X_test)))\n",
    "    precision.append(precision_score(y_test, model.predict(X_test)))\n",
    "    recall.append(recall_score(y_test, model.predict(X_test)))\n",
    "\n",
    "    \n",
    "accuracy = np.array(accuracy)\n",
    "recall = np.array(recall)\n",
    "precision = np.array(precision)"
   ]
  },
  {
   "cell_type": "code",
   "execution_count": 6,
   "id": "441df933-9e79-49a2-bdf0-e8158c8f32a2",
   "metadata": {},
   "outputs": [
    {
     "name": "stdout",
     "output_type": "stream",
     "text": [
      "Logistic Regression accuracy = 0.76\n",
      "Logistic Regression precision = 0.83\n",
      "Logistic Regression recall = 0.74\n"
     ]
    }
   ],
   "source": [
    "print(f'Logistic Regression accuracy = {round(np.mean(accuracy), 2)}')\n",
    "print(f'Logistic Regression precision = {round(np.mean(precision), 2)}')\n",
    "print(f'Logistic Regression recall = {round(np.mean(recall), 2)}')"
   ]
  },
  {
   "cell_type": "markdown",
   "id": "6fa7583d-f0b5-4bc8-93c7-727190c3a8ab",
   "metadata": {},
   "source": [
    "## How well does Logistic Regression predict a PA being approved (`pa_approved`)?"
   ]
  },
  {
   "cell_type": "code",
   "execution_count": 7,
   "id": "0422977f-9d41-4e2f-845a-9c4ef964bdd3",
   "metadata": {},
   "outputs": [],
   "source": [
    "claims_X = combined_df.drop(columns='pa_approved').values\n",
    "claims_y = combined_df['pa_approved'].values\n",
    "\n",
    "bin_le = LabelEncoder()\n",
    "claims_X[:, 0] = bin_le.fit_transform(claims_X[:, 0])\n",
    "\n",
    "drug_le = LabelEncoder()\n",
    "claims_X[:, 1] = drug_le.fit_transform(claims_X[:, 1])\n",
    "\n",
    "reject_code_le = LabelEncoder()\n",
    "claims_X[:, 2] = reject_code_le.fit_transform(claims_X[:, 2])\n",
    "\n",
    "cv = KFold(n_splits=5, random_state=42, shuffle=True)\n",
    "cv.get_n_splits(claims_X)\n",
    "\n",
    "accuracy = []\n",
    "precision = []\n",
    "recall = []\n",
    "\n",
    "for train_index, test_index in cv.split(claims_X):\n",
    "    X_train, X_test = claims_X[train_index], claims_X[test_index]\n",
    "    y_train, y_test = claims_y[train_index], claims_y[test_index]\n",
    "    \n",
    "    model = LogisticRegression(random_state=42)\n",
    "    \n",
    "    model.fit(X_train, y_train)\n",
    "    \n",
    "    accuracy.append(accuracy_score(y_test, model.predict(X_test)))\n",
    "    precision.append(precision_score(y_test, model.predict(X_test)))\n",
    "    recall.append(recall_score(y_test, model.predict(X_test)))\n",
    "\n",
    "    \n",
    "accuracy = np.array(accuracy)\n",
    "recall = np.array(recall)\n",
    "precision = np.array(precision)"
   ]
  },
  {
   "cell_type": "code",
   "execution_count": 8,
   "id": "01b84fca-19c1-450f-baa8-e161c2565f13",
   "metadata": {},
   "outputs": [
    {
     "name": "stdout",
     "output_type": "stream",
     "text": [
      "Logistic Regression accuracy = 0.81\n",
      "Logistic Regression precision = 0.83\n",
      "Logistic Regression recall = 0.93\n"
     ]
    }
   ],
   "source": [
    "print(f'Logistic Regression accuracy = {round(np.mean(accuracy), 2)}')\n",
    "print(f'Logistic Regression precision = {round(np.mean(precision), 2)}')\n",
    "print(f'Logistic Regression recall = {round(np.mean(recall), 2)}')"
   ]
  },
  {
   "cell_type": "markdown",
   "id": "7b4832f6-08ad-4bda-8fd4-9245b79cf8d0",
   "metadata": {},
   "source": [
    "### Does one-hot encoding improve the prediction?\n",
    "- Same performance as without 1-hot encoding."
   ]
  },
  {
   "cell_type": "code",
   "execution_count": 9,
   "id": "1e2550bf-c739-4795-b17e-24247c4f096a",
   "metadata": {},
   "outputs": [],
   "source": [
    "claims_X = combined_df.drop(columns='pa_approved').values\n",
    "claims_y = combined_df['pa_approved'].values\n",
    "\n",
    "ohe = OneHotEncoder(sparse=False, drop='first')\n",
    "claims_X = ohe.fit_transform(claims_X.tolist())\n",
    "\n",
    "cv = KFold(n_splits=5, random_state=42, shuffle=True)\n",
    "cv.get_n_splits(claims_X)\n",
    "\n",
    "accuracy = []\n",
    "precision = []\n",
    "recall = []\n",
    "\n",
    "for train_index, test_index in cv.split(claims_X):\n",
    "    X_train, X_test = claims_X[train_index], claims_X[test_index]\n",
    "    y_train, y_test = claims_y[train_index], claims_y[test_index]\n",
    "    \n",
    "    model = LogisticRegression(random_state=42)\n",
    "    \n",
    "    model.fit(X_train, y_train)\n",
    "    \n",
    "    accuracy.append(accuracy_score(y_test, model.predict(X_test)))\n",
    "    precision.append(precision_score(y_test, model.predict(X_test)))\n",
    "    recall.append(recall_score(y_test, model.predict(X_test)))\n",
    "\n",
    "accuracy = np.array(accuracy)\n",
    "recall = np.array(recall)\n",
    "precision = np.array(precision)"
   ]
  },
  {
   "cell_type": "code",
   "execution_count": 10,
   "id": "40b91883-d039-4587-8b2d-dc3646b13e1c",
   "metadata": {},
   "outputs": [
    {
     "name": "stdout",
     "output_type": "stream",
     "text": [
      "Logistic Regression accuracy = 0.81\n",
      "Logistic Regression precision = 0.83\n",
      "Logistic Regression recall = 0.93\n"
     ]
    }
   ],
   "source": [
    "print(f'Logistic Regression accuracy = {round(np.mean(accuracy), 2)}')\n",
    "print(f'Logistic Regression precision = {round(np.mean(precision), 2)}')\n",
    "print(f'Logistic Regression recall = {round(np.mean(recall), 2)}')"
   ]
  }
 ],
 "metadata": {
  "kernelspec": {
   "display_name": "Python 3",
   "language": "python",
   "name": "python3"
  },
  "language_info": {
   "codemirror_mode": {
    "name": "ipython",
    "version": 3
   },
   "file_extension": ".py",
   "mimetype": "text/x-python",
   "name": "python",
   "nbconvert_exporter": "python",
   "pygments_lexer": "ipython3",
   "version": "3.9.4"
  }
 },
 "nbformat": 4,
 "nbformat_minor": 5
}
